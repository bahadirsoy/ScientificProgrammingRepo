{
 "cells": [
  {
   "cell_type": "markdown",
   "id": "6d2e86c2",
   "metadata": {},
   "source": [
    "# 4 List"
   ]
  },
  {
   "cell_type": "markdown",
   "id": "bd7ba611",
   "metadata": {},
   "source": [
    "## 4.1 Short questions"
   ]
  },
  {
   "cell_type": "code",
   "execution_count": 23,
   "id": "cd0b9723",
   "metadata": {},
   "outputs": [],
   "source": [
    "#EXERCISE 4.1\n",
    "#a\n",
    "def function(list):\n",
    "    for x in list:\n",
    "        print(x, \" \", end='')\n",
    "        \n",
    "#b\n",
    "def function(list):\n",
    "    for i in range(len(list) - 1, -1, -1):\n",
    "        print(list[i], \" \", end='')\n",
    "        \n",
    "#c\n",
    "def function(list):\n",
    "    len = 0\n",
    "    for x in list:\n",
    "        len+=1\n",
    "    return len"
   ]
  },
  {
   "cell_type": "markdown",
   "id": "535403d3",
   "metadata": {},
   "source": [
    "## 4.2 Copying list"
   ]
  },
  {
   "cell_type": "code",
   "execution_count": 24,
   "id": "4de0cb44",
   "metadata": {},
   "outputs": [
    {
     "name": "stdout",
     "output_type": "stream",
     "text": [
      "['elma', 'muz', 22, 18.5]\n",
      "['elma', 'yesil muz', 22, 18.5] \n",
      "\n",
      "['elma', 'yesil muz', 22, 18.5]\n",
      "['elma', 'yesil muz', 22, 18.5] \n",
      "\n",
      "['elma', 'yesil muz', 22, 18.5]\n",
      "[0, 'yesil muz', 22, 18.5]\n"
     ]
    }
   ],
   "source": [
    "#EXERCISE 4.2\n",
    "#a, b, c, d\n",
    "#a[1] is also changed becauseb holds a's reference\n",
    "\n",
    "#e, f, g\n",
    "#Nothing changed in a because in this case, we just copy the list.\n",
    "\n",
    "#bonus\n",
    "#original list is also changed\n",
    "\n",
    "a = [\"elma\", \"muz\", 22, 18.5]\n",
    "b = a\n",
    "\n",
    "print(a)\n",
    "b[1] = \"yesil muz\"\n",
    "print(a, \"\\n\")\n",
    "\n",
    "c = a[:]\n",
    "\n",
    "print(c)\n",
    "c[2] = 25\n",
    "print(a, \"\\n\")\n",
    "\n",
    "def set_first_elem_to_zero(list):\n",
    "    list[0] = 0\n",
    "    return list\n",
    "\n",
    "print(a)\n",
    "set_first_elem_to_zero(a)\n",
    "print(a)"
   ]
  },
  {
   "cell_type": "markdown",
   "id": "39b3b8fa",
   "metadata": {},
   "source": [
    "## 4.3 Lists of lists"
   ]
  },
  {
   "cell_type": "code",
   "execution_count": 25,
   "id": "61f94f79",
   "metadata": {},
   "outputs": [],
   "source": [
    "#EXERCISE 4.3\n",
    "#They are exactly same thing"
   ]
  },
  {
   "cell_type": "markdown",
   "id": "2de72afc",
   "metadata": {},
   "source": [
    "## 4.4 Lists of functions"
   ]
  },
  {
   "cell_type": "code",
   "execution_count": 26,
   "id": "cc398e30",
   "metadata": {},
   "outputs": [],
   "source": [
    "#EXERCISE 4.4\n",
    "def function(list, index):\n",
    "    list[index] = 0"
   ]
  },
  {
   "cell_type": "markdown",
   "id": "ef6e9757",
   "metadata": {},
   "source": [
    "## 4.5 Primes"
   ]
  },
  {
   "cell_type": "code",
   "execution_count": 27,
   "id": "c7202f87",
   "metadata": {},
   "outputs": [],
   "source": [
    "#EXERCISE 4.5\n",
    "def allPrimesUpToNUpdated(n):\n",
    "    list = []\n",
    "    for i in range(2, n+1, 1):\n",
    "        if(isPrimeUpgraded(i)):\n",
    "            list.append(i)\n",
    "    return list\n",
    "\n",
    "def firstNPrimesUpdated(n):\n",
    "    counter = 0\n",
    "    number = 2\n",
    "    list = []\n",
    "\n",
    "    while(counter < n):\n",
    "        if(isPrimeUpgraded(number)):\n",
    "            list.append(number)\n",
    "            counter+=1\n",
    "        number+=1\n",
    "    return list"
   ]
  },
  {
   "cell_type": "markdown",
   "id": "21139738",
   "metadata": {},
   "source": [
    "## 4.6 List comprehensions"
   ]
  },
  {
   "cell_type": "code",
   "execution_count": null,
   "id": "3463b0ad",
   "metadata": {},
   "outputs": [],
   "source": [
    "#EXERCISE 4.6\n"
   ]
  },
  {
   "cell_type": "markdown",
   "id": "1622a1b2",
   "metadata": {},
   "source": [
    "## 4.7 Filter"
   ]
  },
  {
   "cell_type": "code",
   "execution_count": null,
   "id": "0b01299f",
   "metadata": {},
   "outputs": [],
   "source": [
    "#EXERCISE 4.7\n",
    "def myfilter(condition):\n",
    "    return [x for x in condition ]"
   ]
  },
  {
   "cell_type": "markdown",
   "id": "be431246",
   "metadata": {},
   "source": [
    "## 4.8 Flatten a list of lists"
   ]
  },
  {
   "cell_type": "code",
   "execution_count": 1,
   "id": "9b108423",
   "metadata": {},
   "outputs": [
    {
     "name": "stdout",
     "output_type": "stream",
     "text": [
      "['domates', 'biber', 'patlican', 'lahana']\n"
     ]
    }
   ],
   "source": [
    "#EXERCISE 4.8\n",
    "def func(list):\n",
    "    newList = [];\n",
    "    for i in list:\n",
    "        for j in i:\n",
    "            newList.append(j);\n",
    "\n",
    "    return newList;\n",
    "\n",
    "myList = [[\"domates\", \"biber\"], [\"patlican\", \"lahana\"]];\n",
    "print(func(myList))"
   ]
  },
  {
   "cell_type": "markdown",
   "id": "69809e1a",
   "metadata": {},
   "source": [
    "## 4.9 Finding the longest word"
   ]
  },
  {
   "cell_type": "code",
   "execution_count": null,
   "id": "47a0f7db",
   "metadata": {},
   "outputs": [],
   "source": [
    "#EXERCISE 4.9\n",
    "import re\n",
    "def find_longest_word(text):\n",
    "    words = text.split()\n",
    "    length = 0\n",
    "    longestWord = \"\"\n",
    "    for word in words:\n",
    "        word = re.sub(r'\\W+', '', word)\n",
    "        if (len(word)>=length):\n",
    "            length = len(word)\n",
    "            longestWord = word\n",
    "    return longestWord"
   ]
  },
  {
   "cell_type": "markdown",
   "id": "5f185397",
   "metadata": {},
   "source": [
    "## 4.10 Collatz sequence"
   ]
  },
  {
   "cell_type": "code",
   "execution_count": 2,
   "id": "b8599d51",
   "metadata": {},
   "outputs": [
    {
     "name": "stdout",
     "output_type": "stream",
     "text": [
      "[310, 155, 466, 233, 700, 350, 175, 526, 263, 790, 395, 1186, 593, 1780, 890, 445, 1336, 668, 334, 167, 502, 251, 754, 377, 1132, 566, 283, 850, 425, 1276, 638, 319, 958, 479, 1438, 719, 2158, 1079, 3238, 1619, 4858, 2429, 7288, 3644, 1822, 911, 2734, 1367, 4102, 2051, 6154, 3077, 9232, 4616, 2308, 1154, 577, 1732, 866, 433, 1300, 650, 325, 976, 488, 244, 122, 61, 184, 92, 46, 23, 70, 35, 106, 53, 160, 80, 40, 20, 10, 5, 16, 8, 4, 2, 1]\n"
     ]
    }
   ],
   "source": [
    "def func(x):\n",
    "    list = []\n",
    "    while (x != 1):\n",
    "        if (x % 2 != 0):\n",
    "            x = (3 * x) + 1\n",
    "            list.append(x)\n",
    "        else:\n",
    "            x = int(x / 2)\n",
    "            list.append(x)\n",
    "    return list\n",
    "\n",
    "print(func(103))\n",
    "\n",
    "\n"
   ]
  },
  {
   "cell_type": "markdown",
   "id": "1134c185",
   "metadata": {},
   "source": [
    "##  4.11 Pivots"
   ]
  },
  {
   "cell_type": "code",
   "execution_count": 4,
   "id": "f3283635",
   "metadata": {},
   "outputs": [
    {
     "name": "stdout",
     "output_type": "stream",
     "text": [
      "[1, 3, 6, 4, 7]\n"
     ]
    }
   ],
   "source": [
    "def func(x, ys):\n",
    "    list = []\n",
    "    for i in ys:\n",
    "        if(i < x):\n",
    "            list.append(i)\n",
    "    list.append(x)\n",
    "    for i in ys:\n",
    "        if(i > x):\n",
    "            list.append(i)\n",
    "    return list\n",
    "\n",
    "print(func(3, [6, 4, 1, 7]))"
   ]
  },
  {
   "cell_type": "markdown",
   "id": "db8b24a5",
   "metadata": {},
   "source": [
    "## 4.12 Prime challange"
   ]
  },
  {
   "cell_type": "code",
   "execution_count": null,
   "id": "3fc847c4",
   "metadata": {},
   "outputs": [],
   "source": [
    "def primes(n): return [k[0] for k in [[x for x in range(2, i+1) if i % x == 0]for i in range(2, n+1)] if len(k) == 1]"
   ]
  },
  {
   "cell_type": "markdown",
   "id": "fe6b27eb",
   "metadata": {},
   "source": [
    "# 5 Tuples"
   ]
  },
  {
   "cell_type": "markdown",
   "id": "1ffe8098",
   "metadata": {},
   "source": [
    "## 5.1 Swapping two values"
   ]
  },
  {
   "cell_type": "code",
   "execution_count": null,
   "id": "7409a7af",
   "metadata": {},
   "outputs": [],
   "source": [
    "a = \"this is a\"\n",
    "b = \"this is b\"\n",
    "\n",
    "a, b = b, a\n",
    "print(\"a is now \" + a)\n",
    "print(\"b is now \" + b)"
   ]
  },
  {
   "cell_type": "markdown",
   "id": "4eb977df",
   "metadata": {},
   "source": [
    "## 5.2 Zip"
   ]
  },
  {
   "cell_type": "code",
   "execution_count": 1,
   "id": "bf1cb0f9",
   "metadata": {},
   "outputs": [
    {
     "name": "stdout",
     "output_type": "stream",
     "text": [
      "[(1, 1), (2, 2), (3, 3)]\n",
      "[(1, 2, 3), (1, 2, 3)]\n"
     ]
    }
   ],
   "source": [
    "x = [1, 2, 3]\n",
    "y = [1, 2, 3]\n",
    "\n",
    "zippedTuple = list(zip(x, y))\n",
    "print(zippedTuple)\n",
    "\n",
    "unzippedTuple = list(zip(*zippedTuple))\n",
    "print(unzippedTuple)\n",
    "\n"
   ]
  },
  {
   "cell_type": "markdown",
   "id": "b415f294",
   "metadata": {},
   "source": [
    "## 5.3 Distances"
   ]
  },
  {
   "cell_type": "code",
   "execution_count": null,
   "id": "16567a80",
   "metadata": {},
   "outputs": [],
   "source": [
    "def func(x, y): return [['L1: {}'.format((x[i]**2 + y[i]**2)**(1/2)), 'L2: {}'.format(x[i] + y[i])] for i in range(len(x))]"
   ]
  },
  {
   "cell_type": "markdown",
   "id": "d7923b4e",
   "metadata": {},
   "source": [
    "# 6 Dictionaries"
   ]
  },
  {
   "cell_type": "markdown",
   "id": "ad6447d5",
   "metadata": {},
   "source": [
    "## 6.1 Printing a dictionary"
   ]
  },
  {
   "cell_type": "code",
   "execution_count": 3,
   "id": "482d214c",
   "metadata": {},
   "outputs": [
    {
     "name": "stdout",
     "output_type": "stream",
     "text": [
      "a => apple\n",
      "b => ball\n"
     ]
    }
   ],
   "source": [
    "d={'a':'apple','b':'ball'}\n",
    "\n",
    "for x in d.keys():\n",
    "    print(x +\" => \" + d[x])"
   ]
  },
  {
   "cell_type": "markdown",
   "id": "28003b2b",
   "metadata": {},
   "source": [
    "## 6.2 Histogram"
   ]
  },
  {
   "cell_type": "code",
   "execution_count": 4,
   "id": "8d6d8ea0",
   "metadata": {},
   "outputs": [
    {
     "name": "stdout",
     "output_type": "stream",
     "text": [
      "{'apple': 1, 'banana': 3, 'orange': 2}\n"
     ]
    }
   ],
   "source": [
    "def func(list):\n",
    "    dict = {}\n",
    "    for element in list:\n",
    "        if(dict.get(element, False)):\n",
    "            dict[element] += 1\n",
    "        else:\n",
    "            dict[element] = 1\n",
    "    return dict\n",
    "\n",
    "list = [\"apple\", \"banana\", \"orange\", \"banana\", \"banana\", \"orange\"]\n",
    "print(func(list))"
   ]
  },
  {
   "cell_type": "markdown",
   "id": "eebee91c",
   "metadata": {},
   "source": [
    "## 6.3 Get method"
   ]
  },
  {
   "cell_type": "code",
   "execution_count": 5,
   "id": "eae0a20b",
   "metadata": {},
   "outputs": [
    {
     "name": "stdout",
     "output_type": "stream",
     "text": [
      "{'apple': 3, 'orange': 3}\n"
     ]
    }
   ],
   "source": [
    "def func(list):\n",
    "    dict = {}\n",
    "    for element in list:\n",
    "        if(dict.get(element, False)):\n",
    "            dict[element] += 1\n",
    "        else:\n",
    "            dict[element] = 1\n",
    "    return dict\n",
    "\n",
    "list = [\"apple\", \"orange\", \"orange\", \"apple\", \"apple\", \"orange\"]\n",
    "print(func(list))"
   ]
  },
  {
   "cell_type": "markdown",
   "id": "6f763c5c",
   "metadata": {},
   "source": [
    "## 6.4 Random text generator"
   ]
  },
  {
   "cell_type": "code",
   "execution_count": null,
   "id": "18c64f4f",
   "metadata": {},
   "outputs": [],
   "source": []
  },
  {
   "cell_type": "markdown",
   "id": "3d57cfdd",
   "metadata": {},
   "source": [
    "## 6.5 Vector functions"
   ]
  },
  {
   "cell_type": "code",
   "execution_count": null,
   "id": "6c972433",
   "metadata": {},
   "outputs": [],
   "source": []
  },
  {
   "cell_type": "markdown",
   "id": "b842444a",
   "metadata": {},
   "source": [
    "## 6.6 Reverse look-up"
   ]
  },
  {
   "cell_type": "code",
   "execution_count": null,
   "id": "90e2efe2",
   "metadata": {},
   "outputs": [],
   "source": []
  }
 ],
 "metadata": {
  "kernelspec": {
   "display_name": "Python 3",
   "language": "python",
   "name": "python3"
  },
  "language_info": {
   "codemirror_mode": {
    "name": "ipython",
    "version": 3
   },
   "file_extension": ".py",
   "mimetype": "text/x-python",
   "name": "python",
   "nbconvert_exporter": "python",
   "pygments_lexer": "ipython3",
   "version": "3.8.8"
  }
 },
 "nbformat": 4,
 "nbformat_minor": 5
}
