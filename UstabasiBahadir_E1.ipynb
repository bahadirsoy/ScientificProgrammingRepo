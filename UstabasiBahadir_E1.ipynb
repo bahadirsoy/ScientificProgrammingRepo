{
 "cells": [
  {
   "cell_type": "markdown",
   "id": "f3a74247",
   "metadata": {},
   "source": [
    "# 1 Basic"
   ]
  },
  {
   "cell_type": "markdown",
   "id": "2a9629e9",
   "metadata": {},
   "source": [
    "## 1.1 The interpreter"
   ]
  },
  {
   "cell_type": "code",
   "execution_count": 1,
   "id": "1c0eb21e",
   "metadata": {},
   "outputs": [],
   "source": [
    "#EXERCISE 1.1"
   ]
  },
  {
   "cell_type": "code",
   "execution_count": 8,
   "id": "af9077f8",
   "metadata": {},
   "outputs": [
    {
     "data": {
      "text/plain": [
       "4"
      ]
     },
     "execution_count": 8,
     "metadata": {},
     "output_type": "execute_result"
    }
   ],
   "source": [
    "3+1"
   ]
  },
  {
   "cell_type": "code",
   "execution_count": 9,
   "id": "86525002",
   "metadata": {},
   "outputs": [
    {
     "data": {
      "text/plain": [
       "9"
      ]
     },
     "execution_count": 9,
     "metadata": {},
     "output_type": "execute_result"
    }
   ],
   "source": [
    "3*3"
   ]
  },
  {
   "cell_type": "code",
   "execution_count": 10,
   "id": "60a5647b",
   "metadata": {},
   "outputs": [
    {
     "data": {
      "text/plain": [
       "8"
      ]
     },
     "execution_count": 10,
     "metadata": {},
     "output_type": "execute_result"
    }
   ],
   "source": [
    "2**3"
   ]
  },
  {
   "cell_type": "code",
   "execution_count": 11,
   "id": "85cb4e48",
   "metadata": {},
   "outputs": [
    {
     "data": {
      "text/plain": [
       "'Hello, world!'"
      ]
     },
     "execution_count": 11,
     "metadata": {},
     "output_type": "execute_result"
    }
   ],
   "source": [
    "\"Hello, world!\""
   ]
  },
  {
   "cell_type": "markdown",
   "id": "b0a3189f",
   "metadata": {},
   "source": [
    "## 1.2 Scripts"
   ]
  },
  {
   "cell_type": "code",
   "execution_count": 2,
   "id": "d079b060",
   "metadata": {},
   "outputs": [
    {
     "name": "stdout",
     "output_type": "stream",
     "text": [
      "4\n",
      "9\n",
      "8\n",
      "Hello, World\n"
     ]
    }
   ],
   "source": [
    "#EXERCISE 1.2\n",
    "#Nothing happens. However, we can print each of them by putting them into print function like this:\n",
    "print(3+1)\n",
    "print(3*3)\n",
    "print(2**3)\n",
    "print(\"Hello, World\")"
   ]
  },
  {
   "cell_type": "markdown",
   "id": "810b45f5",
   "metadata": {},
   "source": [
    "## 1.3 More interpreter"
   ]
  },
  {
   "cell_type": "code",
   "execution_count": 31,
   "id": "a069f639",
   "metadata": {},
   "outputs": [],
   "source": [
    "#EXERCISE 1.3\n",
    "#a It adds two strings and returns 'python'\n",
    "#b Multiplies 'py' string by 3 and return pypypypython\n",
    "#c It gives error since we are trying to substracting strings which is not valid operation in python\n",
    "#d It gives error because we cannot add string to integer\n",
    "#e Multiplies '3' string with 3 so it returns '333'\n",
    "#f a does not mean anything python so gives an error\n",
    "#g Defines new variables called a and assigns integer value 3\n",
    "#h It returns 3 beacuse 3 is assigned to a"
   ]
  },
  {
   "cell_type": "markdown",
   "id": "a8e5307f",
   "metadata": {},
   "source": [
    "## 1.4 Booleans"
   ]
  },
  {
   "cell_type": "code",
   "execution_count": null,
   "id": "644d383e",
   "metadata": {},
   "outputs": [],
   "source": [
    "#EXERCISE 1.4\n",
    "#a integer 1 is equal to the integer 1. True\n",
    "#b 0 means false and 1 means true in boolean expressions. True\n",
    "#c 0 means false and false is not equal to true. False\n",
    "#d 0 is false. True\n",
    "#e 3 is equal to 1*3 which also 3. True\n",
    "#f (3 == 1) return 0 which means false. 0 * 3 is 0. returns 0\n",
    "#g (3==3) is 1 which is true. 1*4 is 4. 4+3 is 7. 7==1 is false. returns false\n",
    "#h 243 is not greater than or equal to 256. false"
   ]
  },
  {
   "cell_type": "markdown",
   "id": "b782bbd3",
   "metadata": {},
   "source": [
    "## 1.5 Integers"
   ]
  },
  {
   "cell_type": "code",
   "execution_count": 7,
   "id": "851a7fbf",
   "metadata": {},
   "outputs": [],
   "source": [
    "#EXERCISE 1.5\n",
    "#a returns 1.666666667 which is result\n",
    "#b returns 2. remainder is 2\n",
    "#c 1.6 again because this is result\n",
    "#d 1.6\n",
    "#e remainder is 2.2. returns 2.2\n",
    "#f returns 2001 to the power of 200"
   ]
  },
  {
   "cell_type": "markdown",
   "id": "af351c33",
   "metadata": {},
   "source": [
    "## 1.6 Floats"
   ]
  },
  {
   "cell_type": "code",
   "execution_count": 10,
   "id": "d2ac1878",
   "metadata": {},
   "outputs": [],
   "source": [
    "#EXERCISE 1.6\n",
    "#a It gives an error in this case because it exceeds the limit of maximum float value\n",
    "#b result is 0\n",
    "#c Since we are using scientific notation, 1.0 is rounded to 0."
   ]
  },
  {
   "cell_type": "markdown",
   "id": "feb78062",
   "metadata": {},
   "source": [
    "## 1.7 Variables"
   ]
  },
  {
   "cell_type": "code",
   "execution_count": 11,
   "id": "8f4e25d2",
   "metadata": {},
   "outputs": [
    {
     "name": "stdout",
     "output_type": "stream",
     "text": [
      "Hello, John Doe!\n"
     ]
    }
   ],
   "source": [
    "#EXERCISE 1.7\n",
    "name = \"John Doe\"\n",
    "print(\"Hello, \" + name + \"!\")"
   ]
  },
  {
   "cell_type": "markdown",
   "id": "687b36a3",
   "metadata": {},
   "source": [
    "## 1.8 Type casting"
   ]
  },
  {
   "cell_type": "code",
   "execution_count": null,
   "id": "fad6cf48",
   "metadata": {},
   "outputs": [],
   "source": [
    "#EXERCISE 1.8\n",
    "#a returns return 123.0 which is float value of 123\n",
    "#b return 123.0. It casts '123' string to float value\n",
    "#c returns 123.23. casting string to float\n",
    "#d It casts float to the int. returns 123. Casting float to integer just ignores the floating value.\n",
    "#e It gives error because \"123.23\" cannot be casted to integer.\n",
    "#f this returnss 123 because we first cast \"123.23\" to float which returns 123.23 then we cast it to the integer.\n",
    "#However in example e we tried directly cast it.\n",
    "#g casts integer 12 to \"12\"\n",
    "#h casts float 12.2 to \"12.2\"\n",
    "#i all strings excluding empty string returns true in bool().\n",
    "#j all numeric values excluding 0 returns true in bool(). In this case, 0 is passed. returns false\n",
    "#k 0.1 is not 0. returns true"
   ]
  },
  {
   "cell_type": "markdown",
   "id": "8c6ab250",
   "metadata": {},
   "source": [
    "# Control flow"
   ]
  },
  {
   "cell_type": "markdown",
   "id": "cd3770b7",
   "metadata": {},
   "source": [
    "## 2.2 Range"
   ]
  },
  {
   "cell_type": "code",
   "execution_count": null,
   "id": "9d97901e",
   "metadata": {},
   "outputs": [],
   "source": [
    "#EXERCISE 2.1\n",
    "#range(5) returns sequence of numbers starting from 0(default) to 4(It stops before a specified number).\n",
    "#range has 3 parameters start,stop,step. It returns sequence of number starting from start, adds step and returns that number\n",
    "#if number did not reach stop value.\n",
    "#for i in range(5) means for loop which starts at 0, step is 1(by default), and stops at 5.\n",
    "#type(range(5)) is <class 'range'>"
   ]
  },
  {
   "cell_type": "markdown",
   "id": "5e4c98b9",
   "metadata": {},
   "source": [
    "## 2.2 For loops"
   ]
  },
  {
   "cell_type": "code",
   "execution_count": 15,
   "id": "a921f4cb",
   "metadata": {},
   "outputs": [
    {
     "name": "stdout",
     "output_type": "stream",
     "text": [
      "0  1  2  3  4  5  6  7  8  9  10  11  12  13  14  15  16  17  18  19  20  21  22  23  24  25  26  27  28  29  30  31  32  33  34  35  36  37  38  39  40  41  42  43  44  45  46  47  48  49  50  51  52  53  54  55  56  57  58  59  60  61  62  63  64  65  66  67  68  69  70  71  72  73  74  75  76  77  78  79  80  81  82  83  84  85  86  87  88  89  90  91  92  93  94  95  96  97  98  99  100  \n",
      "\n",
      "5  10  20  25  35  40  50  55  65  70  80  85  95  100  \n",
      "\n",
      "2  3  6  9  "
     ]
    }
   ],
   "source": [
    "#EXERCISE 2.2\n",
    "#a\n",
    "for i in range(0, 101, 1):\n",
    "    print(i, \" \", end='')\n",
    " \n",
    "print(\"\\n\")\n",
    "\n",
    "#b\n",
    "for i in range(1, 101, 1):\n",
    "    if(i%5==0 and (i%3!=0)):\n",
    "        print(i, \" \", end='')\n",
    "        \n",
    "print(\"\\n\")\n",
    "\n",
    "#c\n",
    "x=18\n",
    "for i in range(2, x, 1):\n",
    "    if(x%i==0):\n",
    "        print(i, \" \", end='')\n",
    "\n"
   ]
  },
  {
   "cell_type": "markdown",
   "id": "4ca7782c",
   "metadata": {},
   "source": [
    "## 2.3 Simple while loops"
   ]
  },
  {
   "cell_type": "code",
   "execution_count": 16,
   "id": "eea9ef1b",
   "metadata": {},
   "outputs": [
    {
     "name": "stdout",
     "output_type": "stream",
     "text": [
      "1  2  3  4  5  6  7  8  9  10  11  12  13  14  15  16  17  18  19  20  21  22  23  24  25  26  27  28  29  30  31  32  33  34  35  36  37  38  39  40  41  42  43  44  45  46  47  48  49  50  51  52  53  54  55  56  57  58  59  60  61  62  63  64  65  66  67  68  69  70  71  72  73  74  75  76  77  78  79  80  81  82  83  84  85  86  87  88  89  90  91  92  93  94  95  96  97  98  99  100  \n",
      "\n",
      "7  14  21  28  35  42  49  56  63  70  77  84  91  98  "
     ]
    }
   ],
   "source": [
    "#EXERCISE 2.3\n",
    "#a\n",
    "i = 1\n",
    "while(i <= 100):\n",
    "    print(i, \" \", end='')\n",
    "    i+=1\n",
    "    \n",
    "print(\"\\n\")\n",
    "#b\n",
    "i = 1\n",
    "while(i <= 100):\n",
    "    if(i%7 ==0 ):\n",
    "        print(i, \" \", end='')\n",
    "    i+=1\n"
   ]
  },
  {
   "cell_type": "code",
   "execution_count": null,
   "id": "97540a97",
   "metadata": {},
   "outputs": [],
   "source": [
    "#EXERCISE 2.4"
   ]
  },
  {
   "cell_type": "markdown",
   "id": "54cb58bc",
   "metadata": {},
   "source": [
    "## 2.5 While loops"
   ]
  },
  {
   "cell_type": "code",
   "execution_count": null,
   "id": "f5c1e8fe",
   "metadata": {},
   "outputs": [],
   "source": [
    "#EXERCISE 2.5\n",
    "numberFound = 0\n",
    "x = 11\n",
    "\n",
    "while(numberFound < 20):\n",
    "    if(x%5==0 and x%7==0 and x%11==0):\n",
    "        print(x, \" \", end='')\n",
    "        numberFound+=1\n",
    "    x+=1"
   ]
  },
  {
   "cell_type": "markdown",
   "id": "00443e5c",
   "metadata": {},
   "source": [
    "## 2.6 More while loops"
   ]
  },
  {
   "cell_type": "code",
   "execution_count": 32,
   "id": "f81b2988",
   "metadata": {},
   "outputs": [
    {
     "name": "stdout",
     "output_type": "stream",
     "text": [
      "2520\n"
     ]
    }
   ],
   "source": [
    "#EXERCISE 2.6\n",
    "x = 10\n",
    "while (True):\n",
    "    if (x%1==0 and x%2==0 and x%3==0 and x%4==0 and x%5==0 and x%6==0 and x%7==0 and x%8 ==0 and x%9 == 0 and x%10==0):\n",
    "            print(x)\n",
    "            break;\n",
    "    x += 1"
   ]
  },
  {
   "cell_type": "markdown",
   "id": "98ecb7d6",
   "metadata": {},
   "source": [
    "## 2.7 Collatz sequence"
   ]
  },
  {
   "cell_type": "code",
   "execution_count": 17,
   "id": "3d3c17ac",
   "metadata": {},
   "outputs": [
    {
     "name": "stdout",
     "output_type": "stream",
     "text": [
      "103  310  155  466  233  700  350  175  526  263  790  395  1186  593  1780  890  445  1336  668  334  167  502  251  754  377  1132  566  283  850  425  1276  638  319  958  479  1438  719  2158  1079  3238  1619  4858  2429  7288  3644  1822  911  2734  1367  4102  2051  6154  3077  9232  4616  2308  1154  577  1732  866  433  1300  650  325  976  488  244  122  61  184  92  46  23  70  35  106  53  160  80  40  20  10  5  16  8  4  2  1  "
     ]
    }
   ],
   "source": [
    "#EXERCISE 2.7\n",
    "x = 103\n",
    "print(x, \" \", end='')\n",
    "\n",
    "while(x != 1):\n",
    "    if(x % 2 != 0):\n",
    "        x = (3*x)+1\n",
    "        print(x, \" \", end='')\n",
    "    else:\n",
    "        x = int(x/2)\n",
    "        print(x, \" \", end='')"
   ]
  },
  {
   "cell_type": "markdown",
   "id": "e6b0f0e8",
   "metadata": {},
   "source": [
    "# Functions"
   ]
  },
  {
   "cell_type": "markdown",
   "id": "19e2b287",
   "metadata": {},
   "source": [
    "## 3.1 Hello"
   ]
  },
  {
   "cell_type": "code",
   "execution_count": 18,
   "id": "57e7349b",
   "metadata": {},
   "outputs": [],
   "source": [
    "#EXERCISE 3.1\n",
    "#a\n",
    "def function1():\n",
    "    print(\"Hello, world!\")\n",
    "    \n",
    "#b\n",
    "def function2(name):\n",
    "    print(\"Hello, \" + name)\n",
    "    \n",
    "#c\n",
    "#Print functions prints the value. However, return does not anything. It returns the value. In our case, it returns the string\n",
    "#\"Hello, world!\". We could write variable=function1() if it would return a value."
   ]
  },
  {
   "cell_type": "markdown",
   "id": "cb6e9839",
   "metadata": {},
   "source": [
    "## 3.2 Polynomial"
   ]
  },
  {
   "cell_type": "code",
   "execution_count": 33,
   "id": "01b2c634",
   "metadata": {},
   "outputs": [],
   "source": [
    "import math\n",
    "def function(x1, x2, x3): # a, b, and c are ints that correspond to the polynomial's coefficients\n",
    "    delta = x2 ** 2 - 4 * x1 * x3\n",
    "    if (delta >= 0):\n",
    "        root1 = (-x2 + math.sqrt(delta)) / (2 * x1)\n",
    "        root2 = (-x2 - math.sqrt(delta)) / (2 * x1)\n",
    "        print (\"First root is: \" + str(root1) + \"\\nSecond root is: \" + str(root2))\n",
    "    else:\n",
    "        print (\"No root\")"
   ]
  },
  {
   "cell_type": "markdown",
   "id": "8cc68252",
   "metadata": {},
   "source": [
    "## 3.3 Maximum"
   ]
  },
  {
   "cell_type": "code",
   "execution_count": 20,
   "id": "d9ff9c99",
   "metadata": {},
   "outputs": [],
   "source": [
    "#EXERCISE 3.3\n",
    "def my_max(x, y):\n",
    "    if(x>=y):\n",
    "        return x\n",
    "    else:\n",
    "        return y\n",
    "\n",
    "def my_max2(x, y):\n",
    "    if(x>=y):\n",
    "        return x\n",
    "    return y"
   ]
  },
  {
   "cell_type": "markdown",
   "id": "0135e6b2",
   "metadata": {},
   "source": [
    "## 3.4 Primes"
   ]
  },
  {
   "cell_type": "code",
   "execution_count": 21,
   "id": "8ec76cda",
   "metadata": {},
   "outputs": [],
   "source": [
    "#EXERCISE 3.4\n",
    "def isPrime(n):\n",
    "    for i in range(2, n, 1):\n",
    "        if(n%i == 0):\n",
    "            return False\n",
    "    return True\n",
    "\n",
    "def isPrimeUpgraded(n):\n",
    "    if n==1 or n==0 or (n % 2 == 0 and n > 2):\n",
    "        return False\n",
    "    else:\n",
    "        for i in range(3, int(n**(1/2))+1, 2):\n",
    "            if n%i == 0:\n",
    "                return False\n",
    "        return True\n",
    "\n",
    "def allPrimesUpToN(n):\n",
    "    for i in range(2, n+1, 1):\n",
    "        if(isPrimeUpgraded(i)):\n",
    "            print(i, \" \", end='')\n",
    "\n",
    "def firstNPrimes(n):\n",
    "    counter = 0\n",
    "    number = 2\n",
    "\n",
    "    while(counter < n):\n",
    "        if(isPrimeUpgraded(number)):\n",
    "            print(number, \" \", end='')\n",
    "            counter+=1\n",
    "        number+=1"
   ]
  },
  {
   "cell_type": "markdown",
   "id": "3e3cb18d",
   "metadata": {},
   "source": [
    "## 3.5 Root finding"
   ]
  },
  {
   "cell_type": "code",
   "execution_count": 22,
   "id": "16c17373",
   "metadata": {},
   "outputs": [],
   "source": [
    "#EXERCISE 3.5\n",
    "#a, b\n",
    "def find_root(f, a, b):\n",
    "    fa = f(a)\n",
    "    fb = f(b)\n",
    "    if fa*fb > 0:\n",
    "        return None\n",
    "    while abs(fa) > 0.001 and abs(fb) > 0.001:\n",
    "        c = (a+b)/2.0\n",
    "        fc = f(c)\n",
    "        if fa*fc >= 0:\n",
    "            a = c\n",
    "            fa = fc\n",
    "        else:\n",
    "            b = c\n",
    "            fb = fc\n",
    "    if abs(fa) <= 0.001:\n",
    "        return a\n",
    "    else:\n",
    "        return b"
   ]
  }
 ],
 "metadata": {
  "kernelspec": {
   "display_name": "Python 3",
   "language": "python",
   "name": "python3"
  },
  "language_info": {
   "codemirror_mode": {
    "name": "ipython",
    "version": 3
   },
   "file_extension": ".py",
   "mimetype": "text/x-python",
   "name": "python",
   "nbconvert_exporter": "python",
   "pygments_lexer": "ipython3",
   "version": "3.8.8"
  }
 },
 "nbformat": 4,
 "nbformat_minor": 5
}
